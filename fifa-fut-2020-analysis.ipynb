{
 "cells": [
  {
   "cell_type": "markdown",
   "metadata": {},
   "source": [
    "# Fifa 20 Ultimate Team Player/Prices Analysis"
   ]
  },
  {
   "cell_type": "markdown",
   "metadata": {},
   "source": [
    "## Table of Contents\n",
    "<ul>\n",
    "<li><a href=\"#intro\">Introduction</a></li>\n",
    "<li><a href=\"#wrangling\">Data Wrangling</a></li>\n",
    "<li><a href=\"#eda\">Exploratory Data Analysis</a></li>\n",
    "<li><a href=\"#conclusions\">Conclusions</a></li>\n",
    "<li><a href=\"#statistical\">Statistical Tests</a></li>\n",
    "</ul>"
   ]
  },
  {
   "cell_type": "markdown",
   "metadata": {},
   "source": [
    "<a id='intro'></a>\n",
    "## Introduction\n",
    "\n",
    "> "
   ]
  },
  {
   "cell_type": "markdown",
   "metadata": {},
   "source": [
    "<a id='wrangling'></a>\n",
    "## Data Wrangling\n"
   ]
  },
  {
   "cell_type": "markdown",
   "metadata": {},
   "source": [
    "### Gathering Data"
   ]
  },
  {
   "cell_type": "code",
   "execution_count": 1,
   "metadata": {},
   "outputs": [],
   "source": [
    "import zipfile\n",
    "import pandas as pd\n",
    "import numpy as np\n",
    "import random\n",
    "import matplotlib.pyplot as plt\n",
    "%matplotlib inline\n",
    "random.seed(42)"
   ]
  },
  {
   "cell_type": "code",
   "execution_count": null,
   "metadata": {},
   "outputs": [],
   "source": [
    "# Extract contents from Premier League zip file \n",
    "\n",
    "with zipfile.ZipFile('fifa-20-ultimate-team-players-dataset.zip', 'r') as myzip:\n",
    "    myzip.extractall()"
   ]
  },
  {
   "cell_type": "code",
   "execution_count": 2,
   "metadata": {},
   "outputs": [
    {
     "name": "stderr",
     "output_type": "stream",
     "text": [
      "/Users/Eduardo/opt/anaconda3/lib/python3.7/site-packages/IPython/core/interactiveshell.py:3063: DtypeWarning: Columns (5) have mixed types.Specify dtype option on import or set low_memory=False.\n",
      "  interactivity=interactivity, compiler=compiler, result=result)\n"
     ]
    }
   ],
   "source": [
    "# Read Players CSV\n",
    "\n",
    "df_16_players = pd.read_csv('fut_bin16_players.csv')\n",
    "df_17_players = pd.read_csv('fut_bin17_players.csv')\n",
    "df_18_players = pd.read_csv('fut_bin18_players.csv')\n",
    "df_19_players = pd.read_csv('fut_bin19_players.csv')\n",
    "df_20_players = pd.read_csv('fut_bin20_players.csv')"
   ]
  },
  {
   "cell_type": "code",
   "execution_count": 3,
   "metadata": {},
   "outputs": [],
   "source": [
    "# Read Prices CSV\n",
    "\n",
    "df_16_prices = pd.read_csv('fut_bin16_prices.csv')\n",
    "df_17_prices = pd.read_csv('fut_bin17_prices.csv')\n",
    "df_18_prices = pd.read_csv('fut_bin18_prices.csv')\n",
    "df_19_prices = pd.read_csv('fut_bin19_prices.csv')\n",
    "df_20_prices = pd.read_csv('fut_bin20_prices.csv')"
   ]
  },
  {
   "cell_type": "markdown",
   "metadata": {},
   "source": [
    "### Assessing Data\n"
   ]
  },
  {
   "cell_type": "code",
   "execution_count": 127,
   "metadata": {},
   "outputs": [],
   "source": [
    "# Dataframe selection - Select here which dataframe will be used. \n",
    "\n",
    "df = df_20_players.copy()"
   ]
  },
  {
   "cell_type": "code",
   "execution_count": 130,
   "metadata": {},
   "outputs": [
    {
     "data": {
      "text/html": [
       "<div>\n",
       "<style scoped>\n",
       "    .dataframe tbody tr th:only-of-type {\n",
       "        vertical-align: middle;\n",
       "    }\n",
       "\n",
       "    .dataframe tbody tr th {\n",
       "        vertical-align: top;\n",
       "    }\n",
       "\n",
       "    .dataframe thead th {\n",
       "        text-align: right;\n",
       "    }\n",
       "</style>\n",
       "<table border=\"1\" class=\"dataframe\">\n",
       "  <thead>\n",
       "    <tr style=\"text-align: right;\">\n",
       "      <th></th>\n",
       "      <th>futbin_id</th>\n",
       "      <th>player_name</th>\n",
       "      <th>player_extended_name</th>\n",
       "      <th>quality</th>\n",
       "      <th>revision</th>\n",
       "      <th>origin</th>\n",
       "      <th>overall</th>\n",
       "      <th>club</th>\n",
       "      <th>league</th>\n",
       "      <th>nationality</th>\n",
       "      <th>...</th>\n",
       "      <th>ps4_max</th>\n",
       "      <th>ps4_prp</th>\n",
       "      <th>xbox_last</th>\n",
       "      <th>xbox_min</th>\n",
       "      <th>xbox_max</th>\n",
       "      <th>xbox_prp</th>\n",
       "      <th>pc_last</th>\n",
       "      <th>pc_min</th>\n",
       "      <th>pc_max</th>\n",
       "      <th>pc_prp</th>\n",
       "    </tr>\n",
       "  </thead>\n",
       "  <tbody>\n",
       "    <tr>\n",
       "      <th>0</th>\n",
       "      <td>1</td>\n",
       "      <td>Pelé</td>\n",
       "      <td>Edson Arantes Nascimento</td>\n",
       "      <td>Gold - Rare</td>\n",
       "      <td>Icon</td>\n",
       "      <td>Prime</td>\n",
       "      <td>98</td>\n",
       "      <td>Icons</td>\n",
       "      <td>Icons</td>\n",
       "      <td>Brazil</td>\n",
       "      <td>...</td>\n",
       "      <td>11700000.0</td>\n",
       "      <td>47</td>\n",
       "      <td>5198000.0</td>\n",
       "      <td>593000.0</td>\n",
       "      <td>11300000.0</td>\n",
       "      <td>43</td>\n",
       "      <td>NaN</td>\n",
       "      <td>790000.0</td>\n",
       "      <td>15000000.0</td>\n",
       "      <td>47</td>\n",
       "    </tr>\n",
       "    <tr>\n",
       "      <th>1</th>\n",
       "      <td>2</td>\n",
       "      <td>Maradona</td>\n",
       "      <td>Diego Maradona</td>\n",
       "      <td>Gold - Rare</td>\n",
       "      <td>Icon</td>\n",
       "      <td>Prime</td>\n",
       "      <td>97</td>\n",
       "      <td>Icons</td>\n",
       "      <td>Icons</td>\n",
       "      <td>Argentina</td>\n",
       "      <td>...</td>\n",
       "      <td>7600000.0</td>\n",
       "      <td>47</td>\n",
       "      <td>3799000.0</td>\n",
       "      <td>364000.0</td>\n",
       "      <td>6900000.0</td>\n",
       "      <td>52</td>\n",
       "      <td>6500000.0</td>\n",
       "      <td>456000.0</td>\n",
       "      <td>8700000.0</td>\n",
       "      <td>73</td>\n",
       "    </tr>\n",
       "    <tr>\n",
       "      <th>2</th>\n",
       "      <td>3</td>\n",
       "      <td>Ronaldo</td>\n",
       "      <td>Ronaldo Luís Nazário de Lima</td>\n",
       "      <td>Gold - Rare</td>\n",
       "      <td>Icon</td>\n",
       "      <td>Prime</td>\n",
       "      <td>96</td>\n",
       "      <td>Icons</td>\n",
       "      <td>Icons</td>\n",
       "      <td>Brazil</td>\n",
       "      <td>...</td>\n",
       "      <td>15000000.0</td>\n",
       "      <td>90</td>\n",
       "      <td>10300000.0</td>\n",
       "      <td>945000.0</td>\n",
       "      <td>15000000.0</td>\n",
       "      <td>66</td>\n",
       "      <td>NaN</td>\n",
       "      <td>790000.0</td>\n",
       "      <td>15000000.0</td>\n",
       "      <td>96</td>\n",
       "    </tr>\n",
       "    <tr>\n",
       "      <th>3</th>\n",
       "      <td>4</td>\n",
       "      <td>Pelé</td>\n",
       "      <td>Edson Arantes Nascimento</td>\n",
       "      <td>Gold - Rare</td>\n",
       "      <td>Icon</td>\n",
       "      <td>Medium</td>\n",
       "      <td>95</td>\n",
       "      <td>Icons</td>\n",
       "      <td>Icons</td>\n",
       "      <td>Brazil</td>\n",
       "      <td>...</td>\n",
       "      <td>6500000.0</td>\n",
       "      <td>58</td>\n",
       "      <td>3375000.0</td>\n",
       "      <td>313000.0</td>\n",
       "      <td>5900000.0</td>\n",
       "      <td>54</td>\n",
       "      <td>5000000.0</td>\n",
       "      <td>399000.0</td>\n",
       "      <td>7600000.0</td>\n",
       "      <td>63</td>\n",
       "    </tr>\n",
       "    <tr>\n",
       "      <th>4</th>\n",
       "      <td>5</td>\n",
       "      <td>Maradona</td>\n",
       "      <td>Diego Maradona</td>\n",
       "      <td>Gold - Rare</td>\n",
       "      <td>Icon</td>\n",
       "      <td>Medium</td>\n",
       "      <td>95</td>\n",
       "      <td>Icons</td>\n",
       "      <td>Icons</td>\n",
       "      <td>Argentina</td>\n",
       "      <td>...</td>\n",
       "      <td>3400000.0</td>\n",
       "      <td>55</td>\n",
       "      <td>1825000.0</td>\n",
       "      <td>193000.0</td>\n",
       "      <td>3700000.0</td>\n",
       "      <td>46</td>\n",
       "      <td>2200000.0</td>\n",
       "      <td>234000.0</td>\n",
       "      <td>4400000.0</td>\n",
       "      <td>47</td>\n",
       "    </tr>\n",
       "  </tbody>\n",
       "</table>\n",
       "<p>5 rows × 95 columns</p>\n",
       "</div>"
      ],
      "text/plain": [
       "   futbin_id player_name          player_extended_name      quality revision  \\\n",
       "0          1        Pelé      Edson Arantes Nascimento  Gold - Rare     Icon   \n",
       "1          2    Maradona                Diego Maradona  Gold - Rare     Icon   \n",
       "2          3     Ronaldo  Ronaldo Luís Nazário de Lima  Gold - Rare     Icon   \n",
       "3          4        Pelé      Edson Arantes Nascimento  Gold - Rare     Icon   \n",
       "4          5    Maradona                Diego Maradona  Gold - Rare     Icon   \n",
       "\n",
       "   origin  overall   club league nationality  ...     ps4_max  ps4_prp  \\\n",
       "0   Prime       98  Icons  Icons      Brazil  ...  11700000.0       47   \n",
       "1   Prime       97  Icons  Icons   Argentina  ...   7600000.0       47   \n",
       "2   Prime       96  Icons  Icons      Brazil  ...  15000000.0       90   \n",
       "3  Medium       95  Icons  Icons      Brazil  ...   6500000.0       58   \n",
       "4  Medium       95  Icons  Icons   Argentina  ...   3400000.0       55   \n",
       "\n",
       "    xbox_last  xbox_min    xbox_max  xbox_prp    pc_last    pc_min  \\\n",
       "0   5198000.0  593000.0  11300000.0        43        NaN  790000.0   \n",
       "1   3799000.0  364000.0   6900000.0        52  6500000.0  456000.0   \n",
       "2  10300000.0  945000.0  15000000.0        66        NaN  790000.0   \n",
       "3   3375000.0  313000.0   5900000.0        54  5000000.0  399000.0   \n",
       "4   1825000.0  193000.0   3700000.0        46  2200000.0  234000.0   \n",
       "\n",
       "       pc_max  pc_prp  \n",
       "0  15000000.0      47  \n",
       "1   8700000.0      73  \n",
       "2  15000000.0      96  \n",
       "3   7600000.0      63  \n",
       "4   4400000.0      47  \n",
       "\n",
       "[5 rows x 95 columns]"
      ]
     },
     "execution_count": 130,
     "metadata": {},
     "output_type": "execute_result"
    }
   ],
   "source": [
    "# Visual Assessment \n",
    "\n",
    "df.head()"
   ]
  },
  {
   "cell_type": "code",
   "execution_count": 131,
   "metadata": {},
   "outputs": [
    {
     "name": "stdout",
     "output_type": "stream",
     "text": [
      "Quality:  ['Gold - Rare' 'Gold - Non-Rare' 'Silver - Rare' 'Silver - Non-Rare'\n",
      " 'Bronze - Non-Rare' 'Bronze - Rare']\n",
      "Position:  ['CAM' 'ST' 'CF' 'CB' 'GK' 'LW' 'CM' 'RW' 'LM' 'RB' 'CDM' 'LB' 'RM' 'RWB'\n",
      " 'LWB' 'RF' 'LF']\n"
     ]
    }
   ],
   "source": [
    "print('Quality: ', df.quality.unique())\n",
    "print('Position: ',df.position.unique())"
   ]
  },
  {
   "cell_type": "code",
   "execution_count": 133,
   "metadata": {},
   "outputs": [
    {
     "data": {
      "text/plain": [
       "(count    18775.000000\n",
       " mean       181.405326\n",
       " std          6.787917\n",
       " min        155.000000\n",
       " 25%        177.000000\n",
       " 50%        181.000000\n",
       " 75%        186.000000\n",
       " max        205.000000\n",
       " Name: height, dtype: float64,\n",
       " count    18775.000000\n",
       " mean        75.444527\n",
       " std          7.099590\n",
       " min         50.000000\n",
       " 25%         70.000000\n",
       " 50%         75.000000\n",
       " 75%         80.000000\n",
       " max        110.000000\n",
       " Name: weight, dtype: float64)"
      ]
     },
     "execution_count": 133,
     "metadata": {},
     "output_type": "execute_result"
    }
   ],
   "source": [
    "df['height'].describe(), df['weight'].describe()"
   ]
  },
  {
   "cell_type": "code",
   "execution_count": 137,
   "metadata": {},
   "outputs": [
    {
     "data": {
      "text/plain": [
       "Index(['futbin_id', 'player_name', 'player_extended_name', 'quality',\n",
       "       'revision', 'origin', 'overall', 'club', 'league', 'nationality',\n",
       "       'position', 'age', 'date_of_birth', 'height', 'weight', 'intl_rep',\n",
       "       'added_date', 'pace', 'pace_acceleration', 'pace_sprint_speed',\n",
       "       'dribbling', 'drib_agility', 'drib_balance', 'drib_reactions',\n",
       "       'drib_ball_control', 'drib_dribbling', 'drib_composure', 'shooting',\n",
       "       'shoot_positioning', 'shoot_finishing', 'shoot_shot_power',\n",
       "       'shoot_long_shots', 'shoot_volleys', 'shoot_penalties', 'passing',\n",
       "       'pass_vision', 'pass_crossing', 'pass_free_kick', 'pass_short',\n",
       "       'pass_long', 'pass_curve', 'defending', 'def_interceptions',\n",
       "       'def_heading', 'def_marking', 'def_stand_tackle', 'def_slid_tackle',\n",
       "       'physicality', 'phys_jumping', 'phys_stamina', 'phys_strength',\n",
       "       'phys_aggression', 'gk_diving', 'gk_reflexes', 'gk_handling',\n",
       "       'gk_speed', 'gk_kicking', 'gk_positoning', 'pref_foot', 'att_workrate',\n",
       "       'def_workrate', 'weak_foot', 'skill_moves', 'cb', 'rb', 'lb', 'rwb',\n",
       "       'lwb', 'cdm', 'cm', 'rm', 'lm', 'cam', 'cf', 'rf', 'lf', 'rw', 'lw',\n",
       "       'st', 'traits', 'specialities', 'base_id', 'resource_id', 'ps4_last',\n",
       "       'ps4_min', 'ps4_max', 'ps4_prp', 'xbox_last', 'xbox_min', 'xbox_max',\n",
       "       'xbox_prp', 'pc_last', 'pc_min', 'pc_max', 'pc_prp'],\n",
       "      dtype='object')"
      ]
     },
     "execution_count": 137,
     "metadata": {},
     "output_type": "execute_result"
    }
   ],
   "source": [
    "df.columns"
   ]
  },
  {
   "cell_type": "code",
   "execution_count": null,
   "metadata": {},
   "outputs": [],
   "source": []
  },
  {
   "cell_type": "markdown",
   "metadata": {},
   "source": [
    "#### Counter-attacking 4-4-2 strategy\n",
    "\n",
    "Analysis of a counter-attacking strategy built over a 4-4-2. In the defense, the team needs two Centre-backs (CB's) one tall and the other one fast enough to cover. Since the strategy is a low defense line to attract the opponent, a strong left and right backs (LB, RB) are needed to gain back the possession. These two players will cover half of the pitch extension and they need to be good at defending and passing. They don't need to be good at the attack or crossing. In the midfield, two central midfielders (CDM, CM/CAM) will share the task of attacking the opponent to gain the possession back and start the counter-attack. So we need a tall midfielder, good in the air, strong tackling and another one good at long passing. On the sides, two speedsters are needed to support the strikers. They will also be important in defending when losing possession upfront and recomposing. In the attacking positions, we need one tall and strong striker and a goal scoring number 9. When the ball reaches the attacking positions, the two fast right and left-wingers will give a passing option to the strikers. \n",
    "\n",
    "**Centre-Back 1** = Tall, good in the air, good at the positioning. \\\n",
    "**Centre-Back 2** = Medium height, fast enough to cover CB 1 and good at the positioning. \n",
    "\n",
    "**Left Back** - Good at defense and passing. \\\n",
    "**Right Back** - Good at defense and passing. \n",
    "\n",
    "**Central Defensive Midfielder** - Tall, good in the air, strong tackling. \\\n",
    "**Central Attacking Midfielder** - Good at long passing, good vision. \n",
    "\n",
    "**Left Winger** - Speedsters. Good crossing.\\\n",
    "**Right Winger** - Speedsters. Good crossing.\n",
    "\n",
    "**Striker** - Clinical at finishing. \\\n",
    "**Centre-forward** - Strong, good ball control. "
   ]
  },
  {
   "cell_type": "code",
   "execution_count": 99,
   "metadata": {},
   "outputs": [],
   "source": [
    "# Create Dataframes per position \n",
    "\n",
    "# Goalkeeper Dataframe\n",
    "goal = df.query('position == \"GK\"')\n",
    "\n",
    "# Defense Dataframe\n",
    "defense = df.query('position == \"CB\" or position == \"RB\" or position == \"LB\" or position == \"RWB\" or position == \"RWB\"')\n",
    "\n",
    "# Midfield Dataframe\n",
    "midfield = df.query('position == \"CAM\" or position == \"CM\" or position == \"CDM\" or position == \"RM\" or position == \"LM\"')\n",
    "\n",
    "# Attacking Dataframe\n",
    "attack = df.query('position == \"ST\" or position == \"CF\" or position == \"RF\" or position == \"LF\" or position == \"LW\" or position == \"RW\"')\n"
   ]
  },
  {
   "cell_type": "code",
   "execution_count": 93,
   "metadata": {},
   "outputs": [],
   "source": [
    "# Functions per attributes.\n",
    "\n",
    "# Body \n",
    "def height():\n",
    "    plt.title('Height'), \n",
    "    plt.axvline(df.height.mean(), c='red'),\n",
    "    plt.hist(df.height, alpha=0.5)    \n",
    "    \n",
    "def weight():\n",
    "    plt.title('Weight'), \n",
    "    plt.axvline(df.weight.mean(), c='red'),\n",
    "    plt.hist(df.weight, alpha=0.5)    \n",
    "\n",
    "# Speed and Acceleration \n",
    "def pace(pos):\n",
    "    plt.title('Pace'), \n",
    "    plt.axvline(pos.pace.mean(), c='red'),\n",
    "    plt.hist(pos.pace, alpha=0.5)\n",
    "     \n",
    "def pace_acc(pos):\n",
    "    plt.title('Pace Acceleration'), \n",
    "    plt.axvline(pos.pace_acceleration.mean(), c='red'),\n",
    "    plt.hist(pos.pace_acceleration, alpha=0.5)\n",
    "\n",
    "def pace_sprint(pos):\n",
    "    plt.title('Pace Sprint Speed:'), \n",
    "    plt.axvline(pos.pace_sprint_speed.mean(), c='red'),\n",
    "    plt.hist(pos.pace_sprint_speed, alpha=0.5)\n",
    "\n",
    "# Shooting\n",
    "def shooting(pos):\n",
    "    plt.title('Shooting:'), \n",
    "    plt.axvline(pos.shooting.mean(), c='red'),\n",
    "    plt.hist(pos.shooting, alpha=0.5)\n",
    "\n",
    "# Passing \n",
    "def passing(pos):\n",
    "    plt.title('Passing:'), \n",
    "    plt.axvline(pos.passing.mean(), c='red'),\n",
    "    plt.hist(pos.passing, alpha=0.5)\n",
    "\n",
    "def passing_long(pos):\n",
    "    plt.title('Long Passing:'), \n",
    "    plt.axvline(pos.pass_long.mean(), c='red'),\n",
    "    plt.hist(pos.pass_long, alpha=0.5)\n",
    "\n",
    "# Defending \n",
    "def defending(pos):\n",
    "    plt.title('Defending:'), \n",
    "    plt.axvline(pos.defending.mean(), c='red'),\n",
    "    plt.hist(pos.defending, alpha=0.5)\n",
    "\n"
   ]
  },
  {
   "cell_type": "markdown",
   "metadata": {},
   "source": [
    "### Cleaning Data"
   ]
  },
  {
   "cell_type": "markdown",
   "metadata": {},
   "source": [
    "#### \n",
    "> "
   ]
  },
  {
   "cell_type": "markdown",
   "metadata": {},
   "source": [
    "<a id='eda'></a>\n",
    "## Exploratory Data Analysis"
   ]
  },
  {
   "cell_type": "markdown",
   "metadata": {},
   "source": [
    "### Research Question 1  - \n",
    "> **Anwser** = "
   ]
  },
  {
   "cell_type": "code",
   "execution_count": null,
   "metadata": {},
   "outputs": [],
   "source": []
  }
 ],
 "metadata": {
  "kernelspec": {
   "display_name": "Python 3",
   "language": "python",
   "name": "python3"
  },
  "language_info": {
   "codemirror_mode": {
    "name": "ipython",
    "version": 3
   },
   "file_extension": ".py",
   "mimetype": "text/x-python",
   "name": "python",
   "nbconvert_exporter": "python",
   "pygments_lexer": "ipython3",
   "version": "3.7.6"
  }
 },
 "nbformat": 4,
 "nbformat_minor": 4
}

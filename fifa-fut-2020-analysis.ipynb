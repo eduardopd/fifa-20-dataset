{
 "cells": [
  {
   "cell_type": "markdown",
   "metadata": {},
   "source": [
    "# Fifa 20 Ultimate Team Player/Prices Analysis"
   ]
  },
  {
   "cell_type": "markdown",
   "metadata": {},
   "source": [
    "## Table of Contents\n",
    "<ul>\n",
    "<li><a href=\"#intro\">Introduction</a></li>\n",
    "<li><a href=\"#wrangling\">Data Wrangling</a></li>\n",
    "<li><a href=\"#eda\">Exploratory Data Analysis</a></li>\n",
    "<li><a href=\"#conclusions\">Conclusions</a></li>\n",
    "<li><a href=\"#statistical\">Statistical Tests</a></li>\n",
    "</ul>"
   ]
  },
  {
   "cell_type": "markdown",
   "metadata": {},
   "source": [
    "<a id='intro'></a>\n",
    "## Introduction\n",
    "\n",
    "> "
   ]
  },
  {
   "cell_type": "markdown",
   "metadata": {},
   "source": [
    "<a id='wrangling'></a>\n",
    "## Data Wrangling\n"
   ]
  },
  {
   "cell_type": "markdown",
   "metadata": {},
   "source": [
    "### Gather"
   ]
  },
  {
   "cell_type": "code",
   "execution_count": 9,
   "metadata": {},
   "outputs": [],
   "source": [
    "import zipfile\n",
    "import pandas as pd\n",
    "import numpy as np\n",
    "import random\n",
    "import matplotlib.pyplot as plt\n",
    "%matplotlib inline\n",
    "random.seed(42)"
   ]
  },
  {
   "cell_type": "code",
   "execution_count": null,
   "metadata": {},
   "outputs": [],
   "source": [
    "# Extract contents from Premier League zip file \n",
    "\n",
    "with zipfile.ZipFile('fifa-20-ultimate-team-players-dataset.zip', 'r') as myzip:\n",
    "    myzip.extractall()"
   ]
  },
  {
   "cell_type": "code",
   "execution_count": 3,
   "metadata": {},
   "outputs": [
    {
     "name": "stderr",
     "output_type": "stream",
     "text": [
      "/Users/Eduardo/opt/anaconda3/lib/python3.7/site-packages/IPython/core/interactiveshell.py:3063: DtypeWarning: Columns (5) have mixed types.Specify dtype option on import or set low_memory=False.\n",
      "  interactivity=interactivity, compiler=compiler, result=result)\n"
     ]
    }
   ],
   "source": [
    "# Read Players CSV\n",
    "\n",
    "df_16_players = pd.read_csv('fut_bin16_players.csv')\n",
    "df_17_players = pd.read_csv('fut_bin17_players.csv')\n",
    "df_18_players = pd.read_csv('fut_bin18_players.csv')\n",
    "df_19_players = pd.read_csv('fut_bin19_players.csv')\n",
    "df_20_players = pd.read_csv('fut_bin20_players.csv')"
   ]
  },
  {
   "cell_type": "code",
   "execution_count": 4,
   "metadata": {},
   "outputs": [],
   "source": [
    "# Read Prices CSV\n",
    "\n",
    "df_16_prices = pd.read_csv('fut_bin16_prices.csv')\n",
    "df_17_prices = pd.read_csv('fut_bin17_prices.csv')\n",
    "df_18_prices = pd.read_csv('fut_bin18_prices.csv')\n",
    "df_19_prices = pd.read_csv('fut_bin19_prices.csv')\n",
    "df_20_prices = pd.read_csv('fut_bin20_prices.csv')"
   ]
  },
  {
   "cell_type": "markdown",
   "metadata": {},
   "source": [
    "### Assess"
   ]
  },
  {
   "cell_type": "code",
   "execution_count": 8,
   "metadata": {},
   "outputs": [
    {
     "data": {
      "text/html": [
       "<div>\n",
       "<style scoped>\n",
       "    .dataframe tbody tr th:only-of-type {\n",
       "        vertical-align: middle;\n",
       "    }\n",
       "\n",
       "    .dataframe tbody tr th {\n",
       "        vertical-align: top;\n",
       "    }\n",
       "\n",
       "    .dataframe thead th {\n",
       "        text-align: right;\n",
       "    }\n",
       "</style>\n",
       "<table border=\"1\" class=\"dataframe\">\n",
       "  <thead>\n",
       "    <tr style=\"text-align: right;\">\n",
       "      <th></th>\n",
       "      <th>futbin_id</th>\n",
       "      <th>player_name</th>\n",
       "      <th>player_extended_name</th>\n",
       "      <th>quality</th>\n",
       "      <th>revision</th>\n",
       "      <th>origin</th>\n",
       "      <th>overall</th>\n",
       "      <th>club</th>\n",
       "      <th>league</th>\n",
       "      <th>nationality</th>\n",
       "      <th>...</th>\n",
       "      <th>ps4_max</th>\n",
       "      <th>ps4_prp</th>\n",
       "      <th>xbox_last</th>\n",
       "      <th>xbox_min</th>\n",
       "      <th>xbox_max</th>\n",
       "      <th>xbox_prp</th>\n",
       "      <th>pc_last</th>\n",
       "      <th>pc_min</th>\n",
       "      <th>pc_max</th>\n",
       "      <th>pc_prp</th>\n",
       "    </tr>\n",
       "  </thead>\n",
       "  <tbody>\n",
       "    <tr>\n",
       "      <th>0</th>\n",
       "      <td>4537</td>\n",
       "      <td>Pelé</td>\n",
       "      <td>Edson Arantes Nascimento</td>\n",
       "      <td>Gold - Rare</td>\n",
       "      <td>Legend</td>\n",
       "      <td>NaN</td>\n",
       "      <td>95</td>\n",
       "      <td>Legends</td>\n",
       "      <td>Legends</td>\n",
       "      <td>Brazil</td>\n",
       "      <td>...</td>\n",
       "      <td>5000.0</td>\n",
       "      <td>0</td>\n",
       "      <td>6499000.0</td>\n",
       "      <td>480000.0</td>\n",
       "      <td>9200000.0</td>\n",
       "      <td>69</td>\n",
       "      <td>NaN</td>\n",
       "      <td>NaN</td>\n",
       "      <td>NaN</td>\n",
       "      <td>0</td>\n",
       "    </tr>\n",
       "    <tr>\n",
       "      <th>1</th>\n",
       "      <td>4538</td>\n",
       "      <td>Messi</td>\n",
       "      <td>Lionel Messi</td>\n",
       "      <td>Gold - Rare</td>\n",
       "      <td>Normal</td>\n",
       "      <td>NaN</td>\n",
       "      <td>94</td>\n",
       "      <td>FC Barcelona</td>\n",
       "      <td>Liga BBVA</td>\n",
       "      <td>Argentina</td>\n",
       "      <td>...</td>\n",
       "      <td>2700000.0</td>\n",
       "      <td>33</td>\n",
       "      <td>244000.0</td>\n",
       "      <td>35000.0</td>\n",
       "      <td>650000.0</td>\n",
       "      <td>33</td>\n",
       "      <td>NaN</td>\n",
       "      <td>NaN</td>\n",
       "      <td>NaN</td>\n",
       "      <td>0</td>\n",
       "    </tr>\n",
       "    <tr>\n",
       "      <th>2</th>\n",
       "      <td>4539</td>\n",
       "      <td>Ronaldo</td>\n",
       "      <td>Cristiano Ronaldo</td>\n",
       "      <td>Gold - Rare</td>\n",
       "      <td>Normal</td>\n",
       "      <td>NaN</td>\n",
       "      <td>93</td>\n",
       "      <td>Real Madrid</td>\n",
       "      <td>Liga BBVA</td>\n",
       "      <td>Portugal</td>\n",
       "      <td>...</td>\n",
       "      <td>3200000.0</td>\n",
       "      <td>33</td>\n",
       "      <td>290000.0</td>\n",
       "      <td>60000.0</td>\n",
       "      <td>1100000.0</td>\n",
       "      <td>22</td>\n",
       "      <td>NaN</td>\n",
       "      <td>NaN</td>\n",
       "      <td>NaN</td>\n",
       "      <td>0</td>\n",
       "    </tr>\n",
       "    <tr>\n",
       "      <th>3</th>\n",
       "      <td>4540</td>\n",
       "      <td>Beckenbauer</td>\n",
       "      <td>Franz Beckenbauer</td>\n",
       "      <td>Gold - Rare</td>\n",
       "      <td>Legend</td>\n",
       "      <td>NaN</td>\n",
       "      <td>93</td>\n",
       "      <td>Legends</td>\n",
       "      <td>Legends</td>\n",
       "      <td>Germany</td>\n",
       "      <td>...</td>\n",
       "      <td>5000.0</td>\n",
       "      <td>0</td>\n",
       "      <td>727000.0</td>\n",
       "      <td>75000.0</td>\n",
       "      <td>1400000.0</td>\n",
       "      <td>49</td>\n",
       "      <td>NaN</td>\n",
       "      <td>NaN</td>\n",
       "      <td>NaN</td>\n",
       "      <td>0</td>\n",
       "    </tr>\n",
       "    <tr>\n",
       "      <th>4</th>\n",
       "      <td>4541</td>\n",
       "      <td>Maldini</td>\n",
       "      <td>Paolo Maldini</td>\n",
       "      <td>Gold - Rare</td>\n",
       "      <td>Legend</td>\n",
       "      <td>NaN</td>\n",
       "      <td>92</td>\n",
       "      <td>Legends</td>\n",
       "      <td>Legends</td>\n",
       "      <td>Italy</td>\n",
       "      <td>...</td>\n",
       "      <td>5000.0</td>\n",
       "      <td>0</td>\n",
       "      <td>824000.0</td>\n",
       "      <td>80000.0</td>\n",
       "      <td>1500000.0</td>\n",
       "      <td>52</td>\n",
       "      <td>NaN</td>\n",
       "      <td>NaN</td>\n",
       "      <td>NaN</td>\n",
       "      <td>0</td>\n",
       "    </tr>\n",
       "  </tbody>\n",
       "</table>\n",
       "<p>5 rows × 95 columns</p>\n",
       "</div>"
      ],
      "text/plain": [
       "   futbin_id  player_name      player_extended_name      quality revision  \\\n",
       "0       4537         Pelé  Edson Arantes Nascimento  Gold - Rare   Legend   \n",
       "1       4538        Messi              Lionel Messi  Gold - Rare   Normal   \n",
       "2       4539      Ronaldo         Cristiano Ronaldo  Gold - Rare   Normal   \n",
       "3       4540  Beckenbauer         Franz Beckenbauer  Gold - Rare   Legend   \n",
       "4       4541      Maldini             Paolo Maldini  Gold - Rare   Legend   \n",
       "\n",
       "  origin  overall          club     league nationality  ...    ps4_max  \\\n",
       "0    NaN       95       Legends    Legends      Brazil  ...     5000.0   \n",
       "1    NaN       94  FC Barcelona  Liga BBVA   Argentina  ...  2700000.0   \n",
       "2    NaN       93   Real Madrid  Liga BBVA    Portugal  ...  3200000.0   \n",
       "3    NaN       93       Legends    Legends     Germany  ...     5000.0   \n",
       "4    NaN       92       Legends    Legends       Italy  ...     5000.0   \n",
       "\n",
       "   ps4_prp  xbox_last  xbox_min   xbox_max  xbox_prp pc_last  pc_min  pc_max  \\\n",
       "0        0  6499000.0  480000.0  9200000.0        69     NaN     NaN     NaN   \n",
       "1       33   244000.0   35000.0   650000.0        33     NaN     NaN     NaN   \n",
       "2       33   290000.0   60000.0  1100000.0        22     NaN     NaN     NaN   \n",
       "3        0   727000.0   75000.0  1400000.0        49     NaN     NaN     NaN   \n",
       "4        0   824000.0   80000.0  1500000.0        52     NaN     NaN     NaN   \n",
       "\n",
       "   pc_prp  \n",
       "0       0  \n",
       "1       0  \n",
       "2       0  \n",
       "3       0  \n",
       "4       0  \n",
       "\n",
       "[5 rows x 95 columns]"
      ]
     },
     "execution_count": 8,
     "metadata": {},
     "output_type": "execute_result"
    }
   ],
   "source": [
    "df_16_players.head()"
   ]
  },
  {
   "cell_type": "markdown",
   "metadata": {},
   "source": [
    "### Clean"
   ]
  },
  {
   "cell_type": "markdown",
   "metadata": {},
   "source": [
    "#### \n",
    "> "
   ]
  },
  {
   "cell_type": "markdown",
   "metadata": {},
   "source": [
    "<a id='eda'></a>\n",
    "## Exploratory Data Analysis"
   ]
  },
  {
   "cell_type": "markdown",
   "metadata": {},
   "source": [
    "### Research Question 1  - \n",
    "> **Anwser** = "
   ]
  },
  {
   "cell_type": "code",
   "execution_count": null,
   "metadata": {},
   "outputs": [],
   "source": []
  }
 ],
 "metadata": {
  "kernelspec": {
   "display_name": "Python 3",
   "language": "python",
   "name": "python3"
  },
  "language_info": {
   "codemirror_mode": {
    "name": "ipython",
    "version": 3
   },
   "file_extension": ".py",
   "mimetype": "text/x-python",
   "name": "python",
   "nbconvert_exporter": "python",
   "pygments_lexer": "ipython3",
   "version": "3.7.6"
  }
 },
 "nbformat": 4,
 "nbformat_minor": 4
}

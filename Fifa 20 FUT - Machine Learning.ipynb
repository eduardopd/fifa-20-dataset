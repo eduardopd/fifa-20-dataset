{
 "cells": [
  {
   "cell_type": "markdown",
   "metadata": {},
   "source": [
    "# Fifa 20 Ultimate Team Player Machine Learning "
   ]
  },
  {
   "cell_type": "markdown",
   "metadata": {},
   "source": [
    "## Table of Contents\n",
    "<ul>\n",
    "<li><a href=\"#intro\">Introduction</a></li>\n",
    "<li><a href=\"#wrangling\">Data Wrangling</a></li>\n",
    "<li><a href=\"#eda\">Exploratory Data Analysis</a></li>\n",
    "<li><a href=\"#conclusions\">Conclusions</a></li>\n",
    "<li><a href=\"#statistical\">Statistical Tests</a></li>\n",
    "</ul>"
   ]
  },
  {
   "cell_type": "markdown",
   "metadata": {},
   "source": [
    "<a id='intro'></a>\n",
    "## Introduction\n",
    "\n",
    "> This project is about training a machine learning model to infer the football player position using his attributes such as pace, speed, finishing, acceleration amongst others. The dataset used was taken from Kaggle and, it is a list of players from the game Fifa Football 20.  "
   ]
  },
  {
   "cell_type": "markdown",
   "metadata": {},
   "source": [
    "## Data Gathering"
   ]
  },
  {
   "cell_type": "code",
   "execution_count": 1,
   "metadata": {},
   "outputs": [],
   "source": [
    "import zipfile\n",
    "import pandas as pd\n",
    "import numpy as np\n",
    "import random\n",
    "import matplotlib.pyplot as plt\n",
    "import seaborn as sb\n",
    "%matplotlib inline\n",
    "random.seed(42)"
   ]
  },
  {
   "cell_type": "code",
   "execution_count": null,
   "metadata": {},
   "outputs": [],
   "source": [
    "# Extract contents from Premier League zip file \n",
    "\n",
    "with zipfile.ZipFile('fifa-20-ultimate-team-players-dataset.zip', 'r') as myzip:\n",
    "    myzip.extractall()"
   ]
  },
  {
   "cell_type": "code",
   "execution_count": 2,
   "metadata": {},
   "outputs": [
    {
     "name": "stderr",
     "output_type": "stream",
     "text": [
      "/Users/Eduardo/opt/anaconda3/lib/python3.7/site-packages/IPython/core/interactiveshell.py:3063: DtypeWarning: Columns (5) have mixed types.Specify dtype option on import or set low_memory=False.\n",
      "  interactivity=interactivity, compiler=compiler, result=result)\n"
     ]
    }
   ],
   "source": [
    "# Read Players CSV\n",
    "\n",
    "df = pd.read_csv('fut_bin20_players.csv')"
   ]
  },
  {
   "cell_type": "markdown",
   "metadata": {},
   "source": [
    "<a id='wrangling'></a>\n",
    "## Data Wrangling Process"
   ]
  },
  {
   "cell_type": "markdown",
   "metadata": {},
   "source": [
    "#### Define\n",
    "\n",
    "    - Remove column origin.\n",
    "    - Remove column revision.\n",
    "    - Remove columns (ps4, xbox, pc) _last, _min, _max, _prp.\n",
    "    - Remove specialities.\n",
    "    - Remove null GK skills.\n",
    "    - Remove column traits.\n",
    "    - Drop N/A.\n",
    "    - Remove columns player_name, player_extended_name, club, league, nationality,    date_of_birth, quality, added_date, base_id, resource_id, futbin_id \n",
    "  "
   ]
  },
  {
   "cell_type": "code",
   "execution_count": 3,
   "metadata": {},
   "outputs": [],
   "source": [
    "# Dataframe selection \n",
    "\n",
    "df_clean = df.copy()"
   ]
  },
  {
   "cell_type": "code",
   "execution_count": 4,
   "metadata": {},
   "outputs": [
    {
     "name": "stdout",
     "output_type": "stream",
     "text": [
      "<class 'pandas.core.frame.DataFrame'>\n",
      "RangeIndex: 18775 entries, 0 to 18774\n",
      "Data columns (total 95 columns):\n",
      " #   Column                Non-Null Count  Dtype  \n",
      "---  ------                --------------  -----  \n",
      " 0   futbin_id             18775 non-null  int64  \n",
      " 1   player_name           18775 non-null  object \n",
      " 2   player_extended_name  18775 non-null  object \n",
      " 3   quality               18775 non-null  object \n",
      " 4   revision              18409 non-null  object \n",
      " 5   origin                1664 non-null   object \n",
      " 6   overall               18775 non-null  int64  \n",
      " 7   club                  18775 non-null  object \n",
      " 8   league                18775 non-null  object \n",
      " 9   nationality           18775 non-null  object \n",
      " 10  position              18775 non-null  object \n",
      " 11  age                   18775 non-null  int64  \n",
      " 12  date_of_birth         18775 non-null  object \n",
      " 13  height                18775 non-null  int64  \n",
      " 14  weight                18775 non-null  int64  \n",
      " 15  intl_rep              17047 non-null  float64\n",
      " 16  added_date            18775 non-null  object \n",
      " 17  pace                  16791 non-null  float64\n",
      " 18  pace_acceleration     18672 non-null  float64\n",
      " 19  pace_sprint_speed     18672 non-null  float64\n",
      " 20  dribbling             16791 non-null  float64\n",
      " 21  drib_agility          18672 non-null  float64\n",
      " 22  drib_balance          18672 non-null  float64\n",
      " 23  drib_reactions        18672 non-null  float64\n",
      " 24  drib_ball_control     18672 non-null  float64\n",
      " 25  drib_dribbling        18672 non-null  float64\n",
      " 26  drib_composure        18672 non-null  float64\n",
      " 27  shooting              16791 non-null  float64\n",
      " 28  shoot_positioning     18672 non-null  float64\n",
      " 29  shoot_finishing       18672 non-null  float64\n",
      " 30  shoot_shot_power      18672 non-null  float64\n",
      " 31  shoot_long_shots      18672 non-null  float64\n",
      " 32  shoot_volleys         18672 non-null  float64\n",
      " 33  shoot_penalties       18672 non-null  float64\n",
      " 34  passing               16791 non-null  float64\n",
      " 35  pass_vision           18672 non-null  float64\n",
      " 36  pass_crossing         18672 non-null  float64\n",
      " 37  pass_free_kick        18672 non-null  float64\n",
      " 38  pass_short            18672 non-null  float64\n",
      " 39  pass_long             18672 non-null  float64\n",
      " 40  pass_curve            18672 non-null  float64\n",
      " 41  defending             16791 non-null  float64\n",
      " 42  def_interceptions     18672 non-null  float64\n",
      " 43  def_heading           18672 non-null  float64\n",
      " 44  def_marking           18672 non-null  float64\n",
      " 45  def_stand_tackle      18672 non-null  float64\n",
      " 46  def_slid_tackle       18672 non-null  float64\n",
      " 47  physicality           16791 non-null  float64\n",
      " 48  phys_jumping          18672 non-null  float64\n",
      " 49  phys_stamina          18672 non-null  float64\n",
      " 50  phys_strength         18672 non-null  float64\n",
      " 51  phys_aggression       18672 non-null  float64\n",
      " 52  gk_diving             1984 non-null   float64\n",
      " 53  gk_reflexes           1984 non-null   float64\n",
      " 54  gk_handling           1984 non-null   float64\n",
      " 55  gk_speed              1984 non-null   float64\n",
      " 56  gk_kicking            1984 non-null   float64\n",
      " 57  gk_positoning         1984 non-null   float64\n",
      " 58  pref_foot             18775 non-null  object \n",
      " 59  att_workrate          18775 non-null  object \n",
      " 60  def_workrate          18775 non-null  object \n",
      " 61  weak_foot             18775 non-null  int64  \n",
      " 62  skill_moves           18775 non-null  int64  \n",
      " 63  cb                    16791 non-null  float64\n",
      " 64  rb                    16791 non-null  float64\n",
      " 65  lb                    16791 non-null  float64\n",
      " 66  rwb                   16791 non-null  float64\n",
      " 67  lwb                   16791 non-null  float64\n",
      " 68  cdm                   16791 non-null  float64\n",
      " 69  cm                    16791 non-null  float64\n",
      " 70  rm                    16791 non-null  float64\n",
      " 71  lm                    16791 non-null  float64\n",
      " 72  cam                   16791 non-null  float64\n",
      " 73  cf                    16791 non-null  float64\n",
      " 74  rf                    16791 non-null  float64\n",
      " 75  lf                    16791 non-null  float64\n",
      " 76  rw                    16791 non-null  float64\n",
      " 77  lw                    16791 non-null  float64\n",
      " 78  st                    16791 non-null  float64\n",
      " 79  traits                8740 non-null   object \n",
      " 80  specialities          0 non-null      float64\n",
      " 81  base_id               18775 non-null  int64  \n",
      " 82  resource_id           18775 non-null  int64  \n",
      " 83  ps4_last              18148 non-null  float64\n",
      " 84  ps4_min               18553 non-null  float64\n",
      " 85  ps4_max               18553 non-null  float64\n",
      " 86  ps4_prp               18775 non-null  int64  \n",
      " 87  xbox_last             18046 non-null  float64\n",
      " 88  xbox_min              18553 non-null  float64\n",
      " 89  xbox_max              18553 non-null  float64\n",
      " 90  xbox_prp              18775 non-null  int64  \n",
      " 91  pc_last               17699 non-null  float64\n",
      " 92  pc_min                18553 non-null  float64\n",
      " 93  pc_max                18553 non-null  float64\n",
      " 94  pc_prp                18775 non-null  int64  \n",
      "dtypes: float64(68), int64(12), object(15)\n",
      "memory usage: 13.6+ MB\n"
     ]
    }
   ],
   "source": [
    "df_clean.info()"
   ]
  },
  {
   "cell_type": "code",
   "execution_count": 5,
   "metadata": {},
   "outputs": [
    {
     "data": {
      "text/plain": [
       "array(['Prime', 'Medium', 'Base', nan, 'Season 1 Obj', 'TOTW1',\n",
       "       'Transfers', 'Nation Change', 'OTW', 'TOTW2', 'TOTW3', 'TOTW4',\n",
       "       'TOTW5', 'UltimateScream1', 'TOTW6', 'UltimateScream2', 'TOTW7',\n",
       "       'TOTW8', 'RTTF1', 'Season 2 Obj', 'TOTW9', 'RTTF2', 'TOTW10',\n",
       "       'TOTW11', 'TOTW12', 'TOTGS', 'TOTW13', 'TOTW14', 'TOTW15',\n",
       "       'TOTW16', 'TOTY', 'TOTW17', 'TOTW18', 'Headliners1', 'TOTW19',\n",
       "       'Headliners2', 'TOTW20', 'FutureStars'], dtype=object)"
      ]
     },
     "execution_count": 5,
     "metadata": {},
     "output_type": "execute_result"
    }
   ],
   "source": [
    "df_clean.origin.unique()"
   ]
  },
  {
   "cell_type": "code",
   "execution_count": 6,
   "metadata": {},
   "outputs": [
    {
     "data": {
      "text/plain": [
       "array(['Icon', 'Normal', 'PL POTM', 'Seasonal Objectives', 'Objectives',\n",
       "       'IF', nan, 'Bundesliga POTM', 'MLS POTM', 'OTW', 'OTW SBC',\n",
       "       'Flashback SBC', 'Premium SBC', 'Ligue 1 POTM', 'Bundes POTM',\n",
       "       'Halloween SBC', 'Halloween', 'Halloween Obj.', 'CL', 'SBC',\n",
       "       'Objective Special', 'SIF', 'Hero', 'UCL LIVE', 'UEL LIVE',\n",
       "       'UCL LIVE SBC', 'UEL LIVE Obj.', 'UEL LIVE SBC',\n",
       "       'Player Moments SBC', 'Player Moments Obj.', 'CL TOTT SBC',\n",
       "       'CL TOTT', 'Europa TOTT', 'CL TOTT Obj.', 'Europa TOTT SBC',\n",
       "       'FUTmas SBC', 'FUTmas Obj.', 'FUTmas', 'Holiday Season',\n",
       "       'FUTmas Hld Season', 'FUTmas Obj', 'TIF', 'TOTY Flashback Obj',\n",
       "       'TOTY', 'TOTY Flashback SBC', 'LaLiga POTM SBC', 'Players Moments',\n",
       "       'Record Breaker', 'Headliners', 'Headliners Obj', 'Headliners SBC',\n",
       "       'FUT Future Stars', 'FUT Future Stars SBC', 'FutureStars'],\n",
       "      dtype=object)"
      ]
     },
     "execution_count": 6,
     "metadata": {},
     "output_type": "execute_result"
    }
   ],
   "source": [
    "df_clean.revision.unique()"
   ]
  },
  {
   "cell_type": "code",
   "execution_count": 7,
   "metadata": {},
   "outputs": [
    {
     "data": {
      "text/plain": [
       "95"
      ]
     },
     "execution_count": 7,
     "metadata": {},
     "output_type": "execute_result"
    }
   ],
   "source": [
    "df_clean.isnull().all().count()"
   ]
  },
  {
   "cell_type": "code",
   "execution_count": 8,
   "metadata": {},
   "outputs": [
    {
     "data": {
      "text/html": [
       "<div>\n",
       "<style scoped>\n",
       "    .dataframe tbody tr th:only-of-type {\n",
       "        vertical-align: middle;\n",
       "    }\n",
       "\n",
       "    .dataframe tbody tr th {\n",
       "        vertical-align: top;\n",
       "    }\n",
       "\n",
       "    .dataframe thead th {\n",
       "        text-align: right;\n",
       "    }\n",
       "</style>\n",
       "<table border=\"1\" class=\"dataframe\">\n",
       "  <thead>\n",
       "    <tr style=\"text-align: right;\">\n",
       "      <th></th>\n",
       "      <th>overall</th>\n",
       "      <th>position</th>\n",
       "      <th>age</th>\n",
       "      <th>height</th>\n",
       "      <th>weight</th>\n",
       "      <th>pace</th>\n",
       "      <th>pace_acceleration</th>\n",
       "      <th>pace_sprint_speed</th>\n",
       "      <th>dribbling</th>\n",
       "      <th>drib_agility</th>\n",
       "      <th>...</th>\n",
       "      <th>cm</th>\n",
       "      <th>rm</th>\n",
       "      <th>lm</th>\n",
       "      <th>cam</th>\n",
       "      <th>cf</th>\n",
       "      <th>rf</th>\n",
       "      <th>lf</th>\n",
       "      <th>rw</th>\n",
       "      <th>lw</th>\n",
       "      <th>st</th>\n",
       "    </tr>\n",
       "  </thead>\n",
       "  <tbody>\n",
       "    <tr>\n",
       "      <th>0</th>\n",
       "      <td>98</td>\n",
       "      <td>CAM</td>\n",
       "      <td>79</td>\n",
       "      <td>173</td>\n",
       "      <td>70</td>\n",
       "      <td>95.0</td>\n",
       "      <td>95.0</td>\n",
       "      <td>95.0</td>\n",
       "      <td>96.0</td>\n",
       "      <td>94.0</td>\n",
       "      <td>...</td>\n",
       "      <td>91.0</td>\n",
       "      <td>95.0</td>\n",
       "      <td>95.0</td>\n",
       "      <td>96.0</td>\n",
       "      <td>96.0</td>\n",
       "      <td>96.0</td>\n",
       "      <td>96.0</td>\n",
       "      <td>96.0</td>\n",
       "      <td>96.0</td>\n",
       "      <td>95.0</td>\n",
       "    </tr>\n",
       "  </tbody>\n",
       "</table>\n",
       "<p>1 rows × 61 columns</p>\n",
       "</div>"
      ],
      "text/plain": [
       "   overall position  age  height  weight  pace  pace_acceleration  \\\n",
       "0       98      CAM   79     173      70  95.0               95.0   \n",
       "\n",
       "   pace_sprint_speed  dribbling  drib_agility  ...    cm    rm    lm   cam  \\\n",
       "0               95.0       96.0          94.0  ...  91.0  95.0  95.0  96.0   \n",
       "\n",
       "     cf    rf    lf    rw    lw    st  \n",
       "0  96.0  96.0  96.0  96.0  96.0  95.0  \n",
       "\n",
       "[1 rows x 61 columns]"
      ]
     },
     "execution_count": 8,
     "metadata": {},
     "output_type": "execute_result"
    }
   ],
   "source": [
    "df_clean.drop(['origin', 'revision'], axis=1, inplace=True)\n",
    "\n",
    "df_clean.drop(['ps4_last', 'ps4_min', 'ps4_max', 'ps4_prp', 'xbox_last', 'xbox_min', 'xbox_max', 'xbox_prp', 'pc_last', 'pc_min', 'pc_max', 'pc_prp'], axis=1, inplace=True)\n",
    "\n",
    "df_clean.drop(['specialities'], axis=1, inplace=True)\n",
    "\n",
    "df_clean.dropna(subset=['shooting', 'passing', 'defending', 'physicality', 'dribbling', 'pace'], how='all', inplace=True)\n",
    "\n",
    "df_clean.drop(['gk_diving', 'gk_reflexes', 'gk_handling', 'gk_speed', 'gk_kicking', 'gk_positoning'], axis=1, inplace=True)\n",
    "\n",
    "df_clean.drop(['traits', 'intl_rep'], axis=1, inplace=True)\n",
    "\n",
    "df_clean.drop(['player_name', 'player_extended_name', 'club', 'league', 'nationality','date_of_birth', 'quality', 'added_date', 'base_id','resource_id', 'futbin_id'], axis=1, inplace=True)\n",
    "\n",
    "df_clean.head(1)"
   ]
  },
  {
   "cell_type": "code",
   "execution_count": 9,
   "metadata": {},
   "outputs": [
    {
     "name": "stdout",
     "output_type": "stream",
     "text": [
      "<class 'pandas.core.frame.DataFrame'>\n",
      "Int64Index: 16791 entries, 0 to 18774\n",
      "Data columns (total 61 columns):\n",
      " #   Column             Non-Null Count  Dtype  \n",
      "---  ------             --------------  -----  \n",
      " 0   overall            16791 non-null  int64  \n",
      " 1   position           16791 non-null  object \n",
      " 2   age                16791 non-null  int64  \n",
      " 3   height             16791 non-null  int64  \n",
      " 4   weight             16791 non-null  int64  \n",
      " 5   pace               16791 non-null  float64\n",
      " 6   pace_acceleration  16791 non-null  float64\n",
      " 7   pace_sprint_speed  16791 non-null  float64\n",
      " 8   dribbling          16791 non-null  float64\n",
      " 9   drib_agility       16791 non-null  float64\n",
      " 10  drib_balance       16791 non-null  float64\n",
      " 11  drib_reactions     16791 non-null  float64\n",
      " 12  drib_ball_control  16791 non-null  float64\n",
      " 13  drib_dribbling     16791 non-null  float64\n",
      " 14  drib_composure     16791 non-null  float64\n",
      " 15  shooting           16791 non-null  float64\n",
      " 16  shoot_positioning  16791 non-null  float64\n",
      " 17  shoot_finishing    16791 non-null  float64\n",
      " 18  shoot_shot_power   16791 non-null  float64\n",
      " 19  shoot_long_shots   16791 non-null  float64\n",
      " 20  shoot_volleys      16791 non-null  float64\n",
      " 21  shoot_penalties    16791 non-null  float64\n",
      " 22  passing            16791 non-null  float64\n",
      " 23  pass_vision        16791 non-null  float64\n",
      " 24  pass_crossing      16791 non-null  float64\n",
      " 25  pass_free_kick     16791 non-null  float64\n",
      " 26  pass_short         16791 non-null  float64\n",
      " 27  pass_long          16791 non-null  float64\n",
      " 28  pass_curve         16791 non-null  float64\n",
      " 29  defending          16791 non-null  float64\n",
      " 30  def_interceptions  16791 non-null  float64\n",
      " 31  def_heading        16791 non-null  float64\n",
      " 32  def_marking        16791 non-null  float64\n",
      " 33  def_stand_tackle   16791 non-null  float64\n",
      " 34  def_slid_tackle    16791 non-null  float64\n",
      " 35  physicality        16791 non-null  float64\n",
      " 36  phys_jumping       16791 non-null  float64\n",
      " 37  phys_stamina       16791 non-null  float64\n",
      " 38  phys_strength      16791 non-null  float64\n",
      " 39  phys_aggression    16791 non-null  float64\n",
      " 40  pref_foot          16791 non-null  object \n",
      " 41  att_workrate       16791 non-null  object \n",
      " 42  def_workrate       16791 non-null  object \n",
      " 43  weak_foot          16791 non-null  int64  \n",
      " 44  skill_moves        16791 non-null  int64  \n",
      " 45  cb                 16791 non-null  float64\n",
      " 46  rb                 16791 non-null  float64\n",
      " 47  lb                 16791 non-null  float64\n",
      " 48  rwb                16791 non-null  float64\n",
      " 49  lwb                16791 non-null  float64\n",
      " 50  cdm                16791 non-null  float64\n",
      " 51  cm                 16791 non-null  float64\n",
      " 52  rm                 16791 non-null  float64\n",
      " 53  lm                 16791 non-null  float64\n",
      " 54  cam                16791 non-null  float64\n",
      " 55  cf                 16791 non-null  float64\n",
      " 56  rf                 16791 non-null  float64\n",
      " 57  lf                 16791 non-null  float64\n",
      " 58  rw                 16791 non-null  float64\n",
      " 59  lw                 16791 non-null  float64\n",
      " 60  st                 16791 non-null  float64\n",
      "dtypes: float64(51), int64(6), object(4)\n",
      "memory usage: 7.9+ MB\n"
     ]
    }
   ],
   "source": [
    "df_clean.info()"
   ]
  },
  {
   "cell_type": "code",
   "execution_count": 10,
   "metadata": {},
   "outputs": [],
   "source": [
    "df_clean.drop(['pref_foot', 'att_workrate', 'def_workrate'], axis=1, inplace=True)"
   ]
  },
  {
   "cell_type": "code",
   "execution_count": 11,
   "metadata": {},
   "outputs": [
    {
     "name": "stdout",
     "output_type": "stream",
     "text": [
      "<class 'pandas.core.frame.DataFrame'>\n",
      "Int64Index: 16791 entries, 0 to 18774\n",
      "Data columns (total 58 columns):\n",
      " #   Column             Non-Null Count  Dtype  \n",
      "---  ------             --------------  -----  \n",
      " 0   overall            16791 non-null  int64  \n",
      " 1   position           16791 non-null  object \n",
      " 2   age                16791 non-null  int64  \n",
      " 3   height             16791 non-null  int64  \n",
      " 4   weight             16791 non-null  int64  \n",
      " 5   pace               16791 non-null  float64\n",
      " 6   pace_acceleration  16791 non-null  float64\n",
      " 7   pace_sprint_speed  16791 non-null  float64\n",
      " 8   dribbling          16791 non-null  float64\n",
      " 9   drib_agility       16791 non-null  float64\n",
      " 10  drib_balance       16791 non-null  float64\n",
      " 11  drib_reactions     16791 non-null  float64\n",
      " 12  drib_ball_control  16791 non-null  float64\n",
      " 13  drib_dribbling     16791 non-null  float64\n",
      " 14  drib_composure     16791 non-null  float64\n",
      " 15  shooting           16791 non-null  float64\n",
      " 16  shoot_positioning  16791 non-null  float64\n",
      " 17  shoot_finishing    16791 non-null  float64\n",
      " 18  shoot_shot_power   16791 non-null  float64\n",
      " 19  shoot_long_shots   16791 non-null  float64\n",
      " 20  shoot_volleys      16791 non-null  float64\n",
      " 21  shoot_penalties    16791 non-null  float64\n",
      " 22  passing            16791 non-null  float64\n",
      " 23  pass_vision        16791 non-null  float64\n",
      " 24  pass_crossing      16791 non-null  float64\n",
      " 25  pass_free_kick     16791 non-null  float64\n",
      " 26  pass_short         16791 non-null  float64\n",
      " 27  pass_long          16791 non-null  float64\n",
      " 28  pass_curve         16791 non-null  float64\n",
      " 29  defending          16791 non-null  float64\n",
      " 30  def_interceptions  16791 non-null  float64\n",
      " 31  def_heading        16791 non-null  float64\n",
      " 32  def_marking        16791 non-null  float64\n",
      " 33  def_stand_tackle   16791 non-null  float64\n",
      " 34  def_slid_tackle    16791 non-null  float64\n",
      " 35  physicality        16791 non-null  float64\n",
      " 36  phys_jumping       16791 non-null  float64\n",
      " 37  phys_stamina       16791 non-null  float64\n",
      " 38  phys_strength      16791 non-null  float64\n",
      " 39  phys_aggression    16791 non-null  float64\n",
      " 40  weak_foot          16791 non-null  int64  \n",
      " 41  skill_moves        16791 non-null  int64  \n",
      " 42  cb                 16791 non-null  float64\n",
      " 43  rb                 16791 non-null  float64\n",
      " 44  lb                 16791 non-null  float64\n",
      " 45  rwb                16791 non-null  float64\n",
      " 46  lwb                16791 non-null  float64\n",
      " 47  cdm                16791 non-null  float64\n",
      " 48  cm                 16791 non-null  float64\n",
      " 49  rm                 16791 non-null  float64\n",
      " 50  lm                 16791 non-null  float64\n",
      " 51  cam                16791 non-null  float64\n",
      " 52  cf                 16791 non-null  float64\n",
      " 53  rf                 16791 non-null  float64\n",
      " 54  lf                 16791 non-null  float64\n",
      " 55  rw                 16791 non-null  float64\n",
      " 56  lw                 16791 non-null  float64\n",
      " 57  st                 16791 non-null  float64\n",
      "dtypes: float64(51), int64(6), object(1)\n",
      "memory usage: 7.6+ MB\n"
     ]
    }
   ],
   "source": [
    "df_clean.info()"
   ]
  },
  {
   "cell_type": "markdown",
   "metadata": {},
   "source": [
    "<a id='eda'></a>\n",
    "## Exploratory Data Analysis\n",
    "\n",
    "> The Exploratory Data Analysis presented in this notebook is only to give a glimpse of the dataset's content. If you want a more complex EDA, you can find at the notebook fifa-fut-2020-analysis in the project's repository. "
   ]
  },
  {
   "cell_type": "code",
   "execution_count": 12,
   "metadata": {},
   "outputs": [],
   "source": [
    "df_eda = df_clean.copy()"
   ]
  },
  {
   "cell_type": "markdown",
   "metadata": {},
   "source": [
    "### Positions\n"
   ]
  },
  {
   "cell_type": "code",
   "execution_count": 11,
   "metadata": {},
   "outputs": [
    {
     "data": {
      "image/png": "[encoded data removed]",
      "text/plain": [
       "<Figure size 720x360 with 1 Axes>"
      ]
     },
     "metadata": {
      "needs_background": "light"
     },
     "output_type": "display_data"
    }
   ],
   "source": [
    "# Proportion Per Position \n",
    "\n",
    "n = df_eda.shape[0]\n",
    "max_count = df_eda['position'].value_counts().max()\n",
    "max_prop = max_count / n\n",
    "\n",
    "# Tick mark locations\n",
    "tick_props = np.arange(0, 1, 0.05)\n",
    "tick_names = ['{:0.2f}'.format(v) for v in tick_props]\n",
    "\n",
    "def graph_position():\n",
    "    sb.countplot(data = df_eda, x = 'position', order = df_eda['position'].value_counts().index); \n",
    "    plt.xlabel('Position')\n",
    "    plt.ylabel('Proportion')\n",
    "    plt.title('Position Proportion ')\n",
    "\n",
    "plt.figure(figsize=[10,5])\n",
    "plt.yticks(tick_props * n, tick_names)\n",
    "\n",
    "graph_position()"
   ]
  },
  {
   "cell_type": "markdown",
   "metadata": {},
   "source": [
    "### Heat Map"
   ]
  },
  {
   "cell_type": "code",
   "execution_count": 12,
   "metadata": {},
   "outputs": [
    {
     "data": {
      "image/png": "[encoded data removed]",
      "text/plain": [
       "<Figure size 576x576 with 2 Axes>"
      ]
     },
     "metadata": {
      "needs_background": "light"
     },
     "output_type": "display_data"
    }
   ],
   "source": [
    "numeric_vars = ['overall', 'age', 'height', 'weight', 'pace', 'dribbling', 'shooting', 'passing', 'defending', 'physicality'] \n",
    "                \n",
    "categoric_vars = ['position','quality']\n",
    "\n",
    "plt.figure(figsize=[8,8])   \n",
    "\n",
    "def heat_graph():\n",
    "    sb.heatmap(df_eda[numeric_vars].corr(), annot = True, fmt = '.3f', cmap = 'vlag_r', center=0)\n",
    "    \n",
    "heat_graph() \n"
   ]
  },
  {
   "cell_type": "markdown",
   "metadata": {},
   "source": [
    "The passing and the dribbling attributes are the main factors to predic the overall of a player. No other attribute has such impact on the overall.\n"
   ]
  },
  {
   "cell_type": "markdown",
   "metadata": {},
   "source": [
    "# Machine Learning"
   ]
  },
  {
   "cell_type": "code",
   "execution_count": 13,
   "metadata": {},
   "outputs": [],
   "source": [
    "sample = df_eda.copy()"
   ]
  },
  {
   "cell_type": "markdown",
   "metadata": {},
   "source": [
    "### Feature Selection\n",
    "\n",
    "Feature selection is an important step when trying to predict a player's position. We selected the main features presented in the dataset and, now we need to verify which ones are the better when predicting the player's position. The method chosen was Sklearn Feature Selection using the function Select K Best. K is the number of features to select and, we need to compare the number of features to the mean absolute error. The mean absolute error is a risk metric corresponding to the expected value of the absolute error loss. By comparing these two variables, we get the best K variables, the ones with the lowest mean absolute error, when predicting the player's position.\n",
    "\n",
    "Another step is encoding the categorical variables. Since we are trying to predict a categorical variable, and machine learning models only accept numbers as inputs and outputs, we need to encode the categorical variable."
   ]
  },
  {
   "cell_type": "markdown",
   "metadata": {},
   "source": [
    "#### Preprocessing - split the dataset into two datasets, train and, test."
   ]
  },
  {
   "cell_type": "code",
   "execution_count": 14,
   "metadata": {},
   "outputs": [],
   "source": [
    "#variables = ['shooting', 'passing', 'defending', 'physicality', 'dribbling', 'pace', 'weight', 'height', 'age']\n",
    "\n",
    "#X = sample[variables]\n",
    "X = sample.drop(['position'], axis=1)\n",
    "y = sample['position']"
   ]
  },
  {
   "cell_type": "code",
   "execution_count": 15,
   "metadata": {},
   "outputs": [],
   "source": [
    "from sklearn.model_selection import train_test_split\n",
    "\n",
    "X_train, X_test, y_train, y_test = train_test_split(X, y, test_size = 0.2, random_state = 42)"
   ]
  },
  {
   "cell_type": "code",
   "execution_count": 40,
   "metadata": {},
   "outputs": [],
   "source": [
    "from sklearn.preprocessing import OrdinalEncoder, LabelEncoder\n",
    "from sklearn.feature_selection import SelectKBest, chi2, f_classif, SelectFromModel\n",
    "from sklearn.metrics import cohen_kappa_score\n",
    "from sklearn.ensemble import RandomForestClassifier\n",
    "\n",
    "\n",
    "def prepare_inputs(X_train, X_test):\n",
    "    oe = OrdinalEncoder()\n",
    "    oe.fit(X_train)\n",
    "    X_train_enc = oe.transform(X_train)\n",
    "    X_test_enc = oe.transform(X_test)\n",
    "        \n",
    "    return X_train_enc, X_test_enc\n",
    "    \n",
    "    \n",
    "# Prepare the out    \n",
    "def prepare_targets(y_train, y_test):\n",
    "    le = LabelEncoder()\n",
    "    le.fit(y_train)\n",
    "    y_train_enc = le.transform(y_train)\n",
    "    y_test_enc = le.transform(y_test)\n",
    "    \n",
    "    return y_train_enc, y_test_enc\n",
    "\n",
    "\n",
    "# Features selection\n",
    "def select_features_chi2(X_train, y_train, X_test):\n",
    "    selector = SelectKBest(score_func=chi2, k='all')\n",
    "    \n",
    "    selector.fit(X_train, y_train)\n",
    "    \n",
    "    # Reduce X to the selected variables\n",
    "    X_train2 = selector.transform(X_train)\n",
    "    X_test2 = selector.transform(X_test)\n",
    "    \n",
    "    return X_train2, X_test2, selector\n",
    "\n",
    "def select_features_classif(X_train, y_train, X_test):\n",
    "    selector = SelectKBest(score_func=f_classif, k='all')\n",
    "    \n",
    "    selector.fit(X_train, y_train)\n",
    "    \n",
    "    # Reduce X to the selected variables\n",
    "    X_train2 = selector.transform(X_train)\n",
    "    X_test2 = selector.transform(X_test)\n",
    "    \n",
    "    return X_train2, X_test2, selector\n",
    "\n",
    "\n",
    "def select_features_rf(X_train, y_train, X_test):\n",
    "    selector = SelectFromModel(RandomForestClassifier(n_estimators = 100))\n",
    "\n",
    "    selector.fit(X_train, y_train)\n",
    "    \n",
    "    # Reduce X to the selected variables\n",
    "    X_train2 = selector.transform(X_train)\n",
    "    X_test2 = selector.transform(X_test)\n",
    "    \n",
    "    return X_train2, X_test2, selector\n",
    "\n",
    "def select_features_classif_rf(X_train, y_train, X_test, y_test):\n",
    "\n",
    "    sample_size = len(sample.columns)\n",
    "    \n",
    "    best_features = []\n",
    "    \n",
    "    # Use groups of two variables \n",
    "    for k in range(2, sample_size, 2):\n",
    "        selector = SelectKBest(score_func=f_classif, k='all')\n",
    "        \n",
    "        # Reduce X to the selected variables\n",
    "        selector.fit(X_train, y_train)\n",
    "        \n",
    "        X_train2 = selector.transform(X_train)\n",
    "        X_test2 = selector.transform(X_test)\n",
    "\n",
    "        # Fit a Random Forest Classifier with the features selected by K best\n",
    "        model = RandomForestClassifier(n_estimators=100, n_jobs=-1, random_state=0)\n",
    "        model.fit(X_train2, y_train)\n",
    "\n",
    "        p = model.predict(X_test2)\n",
    "        \n",
    "        score = cohen_kappa_score(y_test, p)\n",
    "        \n",
    "        best_features.append(score)\n",
    "        \n",
    "    return best_features"
   ]
  },
  {
   "cell_type": "markdown",
   "metadata": {},
   "source": [
    "#### Feature selection with KBest method using Pearson's Chi-Squared Test\n",
    "\n",
    "Test each feature separately using Pearson's chi-squared test. The higher the result of the test, the most relevant the feature is. "
   ]
  },
  {
   "cell_type": "code",
   "execution_count": 19,
   "metadata": {},
   "outputs": [
    {
     "data": {
      "image/png": "[encoded data removed]",
      "text/plain": [
       "<Figure size 432x288 with 1 Axes>"
      ]
     },
     "metadata": {
      "needs_background": "light"
     },
     "output_type": "display_data"
    }
   ],
   "source": [
    "#X_train_enc, X_test_enc = prepare_inputs(X_train, X_test)\n",
    "y_train_enc, y_test_enc = prepare_targets(y_train, y_test)\n",
    "X_train2, X_test2, selector = select_features_chi2(X_train, y_train_enc, X_test)\n",
    "\n",
    "plt.bar([i for i in range(len(selector.scores_))], selector.scores_);"
   ]
  },
  {
   "cell_type": "markdown",
   "metadata": {},
   "source": [
    "From the graph above we can verify that features 14, 15, 16, 28, 29, 31, 32 and, 33 are the most relevant ones. "
   ]
  },
  {
   "cell_type": "markdown",
   "metadata": {},
   "source": [
    "#### Feature selection with KBest method using Mutual Information \n",
    "\n",
    "Mutual information evaluates the gain of each variable in the context of the target variable. Information gain measures the reduction of \"surprises\" by splitting a dataset according to a given value of a random variable. To sum up, larger the information gain means less surprise.\n",
    "\n",
    "https://machinelearningmastery.com/information-gain-and-mutual-information/"
   ]
  },
  {
   "cell_type": "code",
   "execution_count": 22,
   "metadata": {},
   "outputs": [
    {
     "data": {
      "image/png": "[encoded data removed]",
      "text/plain": [
       "<Figure size 432x288 with 1 Axes>"
      ]
     },
     "metadata": {
      "needs_background": "light"
     },
     "output_type": "display_data"
    }
   ],
   "source": [
    "X_train2, X_test2, selector = select_features_classif(X_train, y_train_enc, X_test)\n",
    "\n",
    "plt.bar([i for i in range(len(selector.scores_))], selector.scores_);"
   ]
  },
  {
   "cell_type": "markdown",
   "metadata": {},
   "source": [
    "The result is similar to the one we found using Chi-Squared. Features 14, 15, 16, 28, 29, 31, 32, 33 and, 41 are the most relevant ones. "
   ]
  },
  {
   "cell_type": "markdown",
   "metadata": {},
   "source": [
    "#### Feature selection using Random Forest Classifier\n",
    "\n",
    "Using a Random Forest Classifier algorithm to perform the features selection, we are able to combine filter and wrapper methods. "
   ]
  },
  {
   "cell_type": "code",
   "execution_count": 37,
   "metadata": {},
   "outputs": [
    {
     "data": {
      "text/plain": [
       "array([False, False, False, False,  True,  True,  True, False, False,\n",
       "       False, False, False,  True, False,  True,  True,  True, False,\n",
       "       False, False, False, False,  True,  True, False, False,  True,\n",
       "       False,  True,  True,  True,  True,  True,  True,  True, False,\n",
       "       False,  True, False, False, False,  True, False, False, False,\n",
       "       False, False, False, False, False, False, False, False, False,\n",
       "       False,  True, False])"
      ]
     },
     "execution_count": 37,
     "metadata": {},
     "output_type": "execute_result"
    }
   ],
   "source": [
    "X_train2, X_test2, selector = select_features_rf(X_train, y_train_enc, X_test)\n",
    "\n",
    "#selector.get_support()\n",
    "\n",
    "plt.bar([i for i in range(len(selector.estimator_))], selector.scores_);"
   ]
  },
  {
   "cell_type": "markdown",
   "metadata": {},
   "source": [
    "#### Feature selection using KBest method with Mutual Information and, predicting output with a Random Forest Classifier"
   ]
  },
  {
   "cell_type": "code",
   "execution_count": 41,
   "metadata": {},
   "outputs": [],
   "source": [
    "best_features = select_features_classif_rf(X_train, y_train_enc, X_test, y_test_enc)"
   ]
  },
  {
   "cell_type": "code",
   "execution_count": 42,
   "metadata": {},
   "outputs": [
    {
     "data": {
      "text/plain": [
       "[0.6361427278018496,\n",
       " 0.6361427278018496,\n",
       " 0.6361427278018496,\n",
       " 0.6361427278018496,\n",
       " 0.6361427278018496,\n",
       " 0.6361427278018496,\n",
       " 0.6361427278018496,\n",
       " 0.6361427278018496,\n",
       " 0.6361427278018496,\n",
       " 0.6361427278018496,\n",
       " 0.6361427278018496,\n",
       " 0.6361427278018496,\n",
       " 0.6361427278018496,\n",
       " 0.6361427278018496,\n",
       " 0.6361427278018496,\n",
       " 0.6361427278018496,\n",
       " 0.6361427278018496,\n",
       " 0.6361427278018496,\n",
       " 0.6361427278018496,\n",
       " 0.6361427278018496,\n",
       " 0.6361427278018496,\n",
       " 0.6361427278018496,\n",
       " 0.6361427278018496,\n",
       " 0.6361427278018496,\n",
       " 0.6361427278018496,\n",
       " 0.6361427278018496,\n",
       " 0.6361427278018496,\n",
       " 0.6361427278018496]"
      ]
     },
     "execution_count": 42,
     "metadata": {},
     "output_type": "execute_result"
    }
   ],
   "source": [
    "best_features"
   ]
  },
  {
   "cell_type": "markdown",
   "metadata": {},
   "source": [
    "After printing out the k select and the mean absolute error, we can verify that adding variables to the model reduces the error. Now we need to find the best features to be used. We will consider 58 features because it is a stable range between 50 and 65. "
   ]
  },
  {
   "cell_type": "markdown",
   "metadata": {},
   "source": [
    "## 08/07 - \n",
    "Criar gráfico da feature selection utilizando Random Forest. Entender pq as métricas não estão funcionando quando utilizo a Random Forest após selecionar as features via f_classif."
   ]
  },
  {
   "cell_type": "markdown",
   "metadata": {},
   "source": [
    "## Cross-Validation \n",
    "\n",
    "Allows us to compare different machine learning methods and get a sense of how well they will work in practice. "
   ]
  },
  {
   "cell_type": "code",
   "execution_count": 23,
   "metadata": {},
   "outputs": [],
   "source": [
    "from sklearn.model_selection import KFold"
   ]
  },
  {
   "cell_type": "markdown",
   "metadata": {},
   "source": [
    "#### The first thing we need to do is split our sample"
   ]
  },
  {
   "cell_type": "code",
   "execution_count": 27,
   "metadata": {},
   "outputs": [],
   "source": [
    "# Create train and valid variables\n",
    "\n",
    "X_train, X_valid, y_train, y_valid = train_test_split(X, y, test_size=0.2)"
   ]
  },
  {
   "cell_type": "markdown",
   "metadata": {},
   "source": [
    "#### Encode the categorical variables"
   ]
  },
  {
   "cell_type": "code",
   "execution_count": 28,
   "metadata": {},
   "outputs": [],
   "source": [
    "# Encode Variables\n",
    "\n",
    "X_train_enc, X_valid_enc = prepare_inputs(X_train, X_valid)\n",
    "y_train_enc, y_valid_enc = prepare_targets(y_train, y_valid)"
   ]
  },
  {
   "cell_type": "markdown",
   "metadata": {},
   "source": [
    "#### Fit a Random Forest Classifier "
   ]
  },
  {
   "cell_type": "code",
   "execution_count": 30,
   "metadata": {},
   "outputs": [],
   "source": [
    "from sklearn.model_selection import KFold\n",
    "\n",
    "results = []\n",
    "\n",
    "for rep in range(10):\n",
    "\n",
    "    kf = KFold(10, shuffle=True, random_state = 0)\n",
    "\n",
    "    for train_lines, valid_lines in kf.split(X):\n",
    "        X_train_enc, X_valid_enc = X.iloc[train_lines], X.iloc[valid_lines]\n",
    "        y_train_enc, y_valid_enc = y.iloc[train_lines], y.iloc[valid_lines]\n",
    "\n",
    "        model = RandomForestClassifier(n_estimators=100, n_jobs=-1, random_state=0)\n",
    "        model.fit(X_train_enc, y_train_enc)\n",
    "\n",
    "        p = model.predict(X_valid_enc)\n",
    "\n",
    "        acc = np.mean(y_valid_enc == p)\n",
    "        results.append(acc)\n"
   ]
  },
  {
   "cell_type": "code",
   "execution_count": 26,
   "metadata": {},
   "outputs": [
    {
     "name": "stdout",
     "output_type": "stream",
     "text": [
      "Mean: 0.6267644431209053\n",
      "Standard Deviation: 0.010868139883050054\n",
      "Variance: 0.00011811646451754324\n"
     ]
    }
   ],
   "source": [
    "print('Mean:', np.mean(results))\n",
    "print('Standard Deviation:', np.std(results))\n",
    "print('Variance:', np.var(results))"
   ]
  },
  {
   "cell_type": "markdown",
   "metadata": {},
   "source": [
    "#### Support Vector Machines"
   ]
  },
  {
   "cell_type": "code",
   "execution_count": 41,
   "metadata": {},
   "outputs": [],
   "source": [
    "from sklearn.svm import SVC"
   ]
  },
  {
   "cell_type": "code",
   "execution_count": 44,
   "metadata": {},
   "outputs": [
    {
     "ename": "KeyboardInterrupt",
     "evalue": "",
     "output_type": "error",
     "traceback": [
      "\u001b[0;31m---------------------------------------------------------------------------\u001b[0m",
      "\u001b[0;31mKeyboardInterrupt\u001b[0m                         Traceback (most recent call last)",
      "\u001b[0;32m<ipython-input-44-7c744323a318>\u001b[0m in \u001b[0;36m<module>\u001b[0;34m\u001b[0m\n\u001b[1;32m     18\u001b[0m \u001b[0;34m\u001b[0m\u001b[0m\n\u001b[1;32m     19\u001b[0m         \u001b[0mclf\u001b[0m \u001b[0;34m=\u001b[0m \u001b[0mSVC\u001b[0m\u001b[0;34m(\u001b[0m\u001b[0mkernel\u001b[0m\u001b[0;34m=\u001b[0m\u001b[0;34m'linear'\u001b[0m\u001b[0;34m)\u001b[0m\u001b[0;34m\u001b[0m\u001b[0;34m\u001b[0m\u001b[0m\n\u001b[0;32m---> 20\u001b[0;31m         \u001b[0mclf\u001b[0m\u001b[0;34m.\u001b[0m\u001b[0mfit\u001b[0m\u001b[0;34m(\u001b[0m\u001b[0mX_train_enc\u001b[0m\u001b[0;34m,\u001b[0m \u001b[0my_train_enc\u001b[0m\u001b[0;34m)\u001b[0m\u001b[0;34m\u001b[0m\u001b[0;34m\u001b[0m\u001b[0m\n\u001b[0m\u001b[1;32m     21\u001b[0m \u001b[0;34m\u001b[0m\u001b[0m\n\u001b[1;32m     22\u001b[0m         \u001b[0mp3\u001b[0m \u001b[0;34m=\u001b[0m \u001b[0mclf\u001b[0m\u001b[0;34m.\u001b[0m\u001b[0mpredict\u001b[0m\u001b[0;34m(\u001b[0m\u001b[0mX_valid_enc\u001b[0m\u001b[0;34m)\u001b[0m\u001b[0;34m\u001b[0m\u001b[0;34m\u001b[0m\u001b[0m\n",
      "\u001b[0;32m~/opt/anaconda3/lib/python3.7/site-packages/sklearn/svm/_base.py\u001b[0m in \u001b[0;36mfit\u001b[0;34m(self, X, y, sample_weight)\u001b[0m\n\u001b[1;32m    197\u001b[0m \u001b[0;34m\u001b[0m\u001b[0m\n\u001b[1;32m    198\u001b[0m         \u001b[0mseed\u001b[0m \u001b[0;34m=\u001b[0m \u001b[0mrnd\u001b[0m\u001b[0;34m.\u001b[0m\u001b[0mrandint\u001b[0m\u001b[0;34m(\u001b[0m\u001b[0mnp\u001b[0m\u001b[0;34m.\u001b[0m\u001b[0miinfo\u001b[0m\u001b[0;34m(\u001b[0m\u001b[0;34m'i'\u001b[0m\u001b[0;34m)\u001b[0m\u001b[0;34m.\u001b[0m\u001b[0mmax\u001b[0m\u001b[0;34m)\u001b[0m\u001b[0;34m\u001b[0m\u001b[0;34m\u001b[0m\u001b[0m\n\u001b[0;32m--> 199\u001b[0;31m         \u001b[0mfit\u001b[0m\u001b[0;34m(\u001b[0m\u001b[0mX\u001b[0m\u001b[0;34m,\u001b[0m \u001b[0my\u001b[0m\u001b[0;34m,\u001b[0m \u001b[0msample_weight\u001b[0m\u001b[0;34m,\u001b[0m \u001b[0msolver_type\u001b[0m\u001b[0;34m,\u001b[0m \u001b[0mkernel\u001b[0m\u001b[0;34m,\u001b[0m \u001b[0mrandom_seed\u001b[0m\u001b[0;34m=\u001b[0m\u001b[0mseed\u001b[0m\u001b[0;34m)\u001b[0m\u001b[0;34m\u001b[0m\u001b[0;34m\u001b[0m\u001b[0m\n\u001b[0m\u001b[1;32m    200\u001b[0m         \u001b[0;31m# see comment on the other call to np.iinfo in this file\u001b[0m\u001b[0;34m\u001b[0m\u001b[0;34m\u001b[0m\u001b[0;34m\u001b[0m\u001b[0m\n\u001b[1;32m    201\u001b[0m \u001b[0;34m\u001b[0m\u001b[0m\n",
      "\u001b[0;32m~/opt/anaconda3/lib/python3.7/site-packages/sklearn/svm/_base.py\u001b[0m in \u001b[0;36m_sparse_fit\u001b[0;34m(self, X, y, sample_weight, solver_type, kernel, random_seed)\u001b[0m\n\u001b[1;32m    278\u001b[0m                 \u001b[0msample_weight\u001b[0m\u001b[0;34m,\u001b[0m \u001b[0mself\u001b[0m\u001b[0;34m.\u001b[0m\u001b[0mnu\u001b[0m\u001b[0;34m,\u001b[0m \u001b[0mself\u001b[0m\u001b[0;34m.\u001b[0m\u001b[0mcache_size\u001b[0m\u001b[0;34m,\u001b[0m \u001b[0mself\u001b[0m\u001b[0;34m.\u001b[0m\u001b[0mepsilon\u001b[0m\u001b[0;34m,\u001b[0m\u001b[0;34m\u001b[0m\u001b[0;34m\u001b[0m\u001b[0m\n\u001b[1;32m    279\u001b[0m                 \u001b[0mint\u001b[0m\u001b[0;34m(\u001b[0m\u001b[0mself\u001b[0m\u001b[0;34m.\u001b[0m\u001b[0mshrinking\u001b[0m\u001b[0;34m)\u001b[0m\u001b[0;34m,\u001b[0m \u001b[0mint\u001b[0m\u001b[0;34m(\u001b[0m\u001b[0mself\u001b[0m\u001b[0;34m.\u001b[0m\u001b[0mprobability\u001b[0m\u001b[0;34m)\u001b[0m\u001b[0;34m,\u001b[0m \u001b[0mself\u001b[0m\u001b[0;34m.\u001b[0m\u001b[0mmax_iter\u001b[0m\u001b[0;34m,\u001b[0m\u001b[0;34m\u001b[0m\u001b[0;34m\u001b[0m\u001b[0m\n\u001b[0;32m--> 280\u001b[0;31m                 random_seed)\n\u001b[0m\u001b[1;32m    281\u001b[0m \u001b[0;34m\u001b[0m\u001b[0m\n\u001b[1;32m    282\u001b[0m         \u001b[0mself\u001b[0m\u001b[0;34m.\u001b[0m\u001b[0m_warn_from_fit_status\u001b[0m\u001b[0;34m(\u001b[0m\u001b[0;34m)\u001b[0m\u001b[0;34m\u001b[0m\u001b[0;34m\u001b[0m\u001b[0m\n",
      "\u001b[0;32msklearn/svm/_libsvm_sparse.pyx\u001b[0m in \u001b[0;36msklearn.svm._libsvm_sparse.libsvm_sparse_train\u001b[0;34m()\u001b[0m\n",
      "\u001b[0;32m~/opt/anaconda3/lib/python3.7/site-packages/scipy/sparse/compressed.py\u001b[0m in \u001b[0;36m__init__\u001b[0;34m(self, arg1, shape, dtype, copy)\u001b[0m\n\u001b[1;32m     28\u001b[0m     \u001b[0;34m\"\"\"base matrix class for compressed row and column oriented matrices\"\"\"\u001b[0m\u001b[0;34m\u001b[0m\u001b[0;34m\u001b[0m\u001b[0m\n\u001b[1;32m     29\u001b[0m \u001b[0;34m\u001b[0m\u001b[0m\n\u001b[0;32m---> 30\u001b[0;31m     \u001b[0;32mdef\u001b[0m \u001b[0m__init__\u001b[0m\u001b[0;34m(\u001b[0m\u001b[0mself\u001b[0m\u001b[0;34m,\u001b[0m \u001b[0marg1\u001b[0m\u001b[0;34m,\u001b[0m \u001b[0mshape\u001b[0m\u001b[0;34m=\u001b[0m\u001b[0;32mNone\u001b[0m\u001b[0;34m,\u001b[0m \u001b[0mdtype\u001b[0m\u001b[0;34m=\u001b[0m\u001b[0;32mNone\u001b[0m\u001b[0;34m,\u001b[0m \u001b[0mcopy\u001b[0m\u001b[0;34m=\u001b[0m\u001b[0;32mFalse\u001b[0m\u001b[0;34m)\u001b[0m\u001b[0;34m:\u001b[0m\u001b[0;34m\u001b[0m\u001b[0;34m\u001b[0m\u001b[0m\n\u001b[0m\u001b[1;32m     31\u001b[0m         \u001b[0m_data_matrix\u001b[0m\u001b[0;34m.\u001b[0m\u001b[0m__init__\u001b[0m\u001b[0;34m(\u001b[0m\u001b[0mself\u001b[0m\u001b[0;34m)\u001b[0m\u001b[0;34m\u001b[0m\u001b[0;34m\u001b[0m\u001b[0m\n\u001b[1;32m     32\u001b[0m \u001b[0;34m\u001b[0m\u001b[0m\n",
      "\u001b[0;31mKeyboardInterrupt\u001b[0m: "
     ]
    }
   ],
   "source": [
    "X = sample[variables]\n",
    "y = sample['position']\n",
    "\n",
    "results = []\n",
    "\n",
    "variables = ['shooting']\n",
    "\n",
    "for rep in range(10):\n",
    "\n",
    "    kf = KFold(10, shuffle=True, random_state = 0)\n",
    "\n",
    "    for train_lines, valid_lines in kf.split(X):\n",
    "        X_train, X_valid = X.iloc[train_lines], X.iloc[valid_lines]\n",
    "        y_train, y_valid = y.iloc[train_lines], y.iloc[valid_lines]\n",
    "        \n",
    "        X_train_enc, X_valid_enc = prepare_inputs(X_train, X_valid)\n",
    "        y_train_enc, y_valid_enc = prepare_targets(y_train, y_valid)\n",
    "\n",
    "        clf = SVC(kernel='linear')\n",
    "        clf.fit(X_train_enc, y_train_enc)\n",
    "\n",
    "        p3 = clf.predict(X_valid_enc)\n",
    "\n",
    "        acc = np.mean(y_valid_enc == p3)\n",
    "        results.append(acc)\n",
    "\n",
    "# Results measures         \n",
    "        \n",
    "print('Mean:', np.mean(results))\n",
    "print('Standard Deviation:', np.std(results))\n",
    "print('Variance:', np.var(results))"
   ]
  },
  {
   "cell_type": "code",
   "execution_count": null,
   "metadata": {},
   "outputs": [],
   "source": []
  }
 ],
 "metadata": {
  "kernelspec": {
   "display_name": "Python 3",
   "language": "python",
   "name": "python3"
  },
  "language_info": {
   "codemirror_mode": {
    "name": "ipython",
    "version": 3
   },
   "file_extension": ".py",
   "mimetype": "text/x-python",
   "name": "python",
   "nbconvert_exporter": "python",
   "pygments_lexer": "ipython3",
   "version": "3.7.6"
  }
 },
 "nbformat": 4,
 "nbformat_minor": 4
}
